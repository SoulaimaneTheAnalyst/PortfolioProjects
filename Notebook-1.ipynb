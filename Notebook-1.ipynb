{
    "metadata": {
        "kernelspec": {
            "name": "SQL",
            "display_name": "SQL",
            "language": "sql"
        },
        "language_info": {
            "name": "sql",
            "version": ""
        }
    },
    "nbformat_minor": 2,
    "nbformat": 4,
    "cells": [
        {
            "cell_type": "markdown",
            "source": [
                "# <mark>I- Ride Analysis</mark>\n",
                "\n",
                "- <span style=\"font-size: 16.38px;\"><b>What is the average trip distance traveled by passengers?&nbsp;</b></span>"
            ],
            "metadata": {
                "azdata_cell_guid": "aa25b2a4-73ff-45b0-a6b0-a8acfd8aa7e7"
            },
            "attachments": {}
        },
        {
            "cell_type": "code",
            "source": [
                "SELECT \r\n",
                "  AVG(trip_distance) AS average_distance \r\n",
                "FROM \r\n",
                "  yellow_tripdata"
            ],
            "metadata": {
                "azdata_cell_guid": "4396bf48-6a56-457c-9417-77a88cd5d9ee",
                "language": "sql"
            },
            "outputs": [
                {
                    "output_type": "display_data",
                    "data": {
                        "text/html": "(1 row affected)"
                    },
                    "metadata": {}
                },
                {
                    "output_type": "display_data",
                    "data": {
                        "text/html": "Total execution time: 00:00:00.698"
                    },
                    "metadata": {}
                },
                {
                    "output_type": "execute_result",
                    "metadata": {},
                    "execution_count": 4,
                    "data": {
                        "application/vnd.dataresource+json": {
                            "schema": {
                                "fields": [
                                    {
                                        "name": "average_distance"
                                    }
                                ]
                            },
                            "data": [
                                {
                                    "average_distance": "3.847342034098161"
                                }
                            ]
                        },
                        "text/html": [
                            "<table>",
                            "<tr><th>average_distance</th></tr>",
                            "<tr><td>3.847342034098161</td></tr>",
                            "</table>"
                        ]
                    }
                }
            ],
            "execution_count": 4
        },
        {
            "cell_type": "markdown",
            "source": [
                "- <span style=\"font-size: 16.38px;\"><b>What is the average fare amount for rides paid with credit cards versus cash?&nbsp;</b></span>"
            ],
            "metadata": {
                "azdata_cell_guid": "195d1b35-b05d-4968-b8e8-589c2afefeae"
            },
            "attachments": {}
        },
        {
            "cell_type": "code",
            "source": [
                "SELECT \r\n",
                "  AVG (fare_amount) AS avergae_fare_amount_credit_card \r\n",
                "FROM \r\n",
                "  yellow_tripdata \r\n",
                "WHERE \r\n",
                "  payment_type = 1 \r\n",
                "\r\n",
                "SELECT \r\n",
                "  AVG (fare_amount) AS avergae_fare_amount_cash \r\n",
                "FROM \r\n",
                "  yellow_tripdata \r\n",
                "WHERE \r\n",
                "  payment_type = 2"
            ],
            "metadata": {
                "azdata_cell_guid": "23dc6755-c2c3-4534-8df6-22060ace5809",
                "language": "sql"
            },
            "outputs": [
                {
                    "output_type": "display_data",
                    "data": {
                        "text/html": "(1 row affected)"
                    },
                    "metadata": {}
                },
                {
                    "output_type": "display_data",
                    "data": {
                        "text/html": "(1 row affected)"
                    },
                    "metadata": {}
                },
                {
                    "output_type": "display_data",
                    "data": {
                        "text/html": "Total execution time: 00:00:01.044"
                    },
                    "metadata": {}
                },
                {
                    "output_type": "execute_result",
                    "metadata": {},
                    "execution_count": 5,
                    "data": {
                        "application/vnd.dataresource+json": {
                            "schema": {
                                "fields": [
                                    {
                                        "name": "avergae_fare_amount_credit_card"
                                    }
                                ]
                            },
                            "data": [
                                {
                                    "avergae_fare_amount_credit_card": "18.660045072359292"
                                }
                            ]
                        },
                        "text/html": [
                            "<table>",
                            "<tr><th>avergae_fare_amount_credit_card</th></tr>",
                            "<tr><td>18.660045072359292</td></tr>",
                            "</table>"
                        ]
                    }
                },
                {
                    "output_type": "execute_result",
                    "metadata": {},
                    "execution_count": 5,
                    "data": {
                        "application/vnd.dataresource+json": {
                            "schema": {
                                "fields": [
                                    {
                                        "name": "avergae_fare_amount_cash"
                                    }
                                ]
                            },
                            "data": [
                                {
                                    "avergae_fare_amount_cash": "18.082794555184687"
                                }
                            ]
                        },
                        "text/html": [
                            "<table>",
                            "<tr><th>avergae_fare_amount_cash</th></tr>",
                            "<tr><td>18.082794555184687</td></tr>",
                            "</table>"
                        ]
                    }
                }
            ],
            "execution_count": 5
        }
    ]
}