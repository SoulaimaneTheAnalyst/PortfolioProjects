{
    "metadata": {
        "kernelspec": {
            "name": "SQL",
            "display_name": "SQL",
            "language": "sql"
        },
        "language_info": {
            "name": "sql",
            "version": ""
        }
    },
    "nbformat_minor": 2,
    "nbformat": 4,
    "cells": [
        {
            "cell_type": "markdown",
            "source": [
                "# <mark>I- Ride Analysis</mark>\n",
                "\n",
                "- <span style=\"font-size: 16.38px;\"><b>The average trip distance traveled by passengers</b></span>"
            ],
            "metadata": {
                "azdata_cell_guid": "aa25b2a4-73ff-45b0-a6b0-a8acfd8aa7e7"
            },
            "attachments": {}
        },
        {
            "cell_type": "code",
            "source": [
                "SELECT \r\n",
                "  AVG(trip_distance) AS average_distance \r\n",
                "FROM \r\n",
                "yellow_tripdata"
            ],
            "metadata": {
                "azdata_cell_guid": "4396bf48-6a56-457c-9417-77a88cd5d9ee",
                "language": "sql",
                "tags": []
            },
            "outputs": [
                {
                    "output_type": "display_data",
                    "data": {
                        "text/html": "(1 row affected)"
                    },
                    "metadata": {}
                },
                {
                    "output_type": "display_data",
                    "data": {
                        "text/html": "Total execution time: 00:00:01.802"
                    },
                    "metadata": {}
                },
                {
                    "output_type": "execute_result",
                    "execution_count": 1,
                    "data": {
                        "application/vnd.dataresource+json": {
                            "schema": {
                                "fields": [
                                    {
                                        "name": "average_distance"
                                    }
                                ]
                            },
                            "data": [
                                {
                                    "average_distance": "3.847342034098161"
                                }
                            ]
                        },
                        "text/html": "<table><tr><th>average_distance</th></tr><tr><td>3.847342034098161</td></tr></table>"
                    },
                    "metadata": {}
                }
            ],
            "execution_count": 1
        },
        {
            "cell_type": "markdown",
            "source": [
                "- <span style=\"font-size: 16.38px;\"><b>The average fare amount for rides paid with credit cards versus cash&nbsp;</b></span>"
            ],
            "metadata": {
                "azdata_cell_guid": "195d1b35-b05d-4968-b8e8-589c2afefeae"
            },
            "attachments": {}
        },
        {
            "cell_type": "code",
            "source": [
                "SELECT \r\n",
                "  AVG (fare_amount) AS avergae_fare_amount_credit_card \r\n",
                "FROM \r\n",
                "  yellow_tripdata \r\n",
                "WHERE \r\n",
                "  payment_type = 1 \r\n",
                "\r\n",
                "SELECT \r\n",
                "  AVG (fare_amount) AS avergae_fare_amount_cash \r\n",
                "FROM \r\n",
                "  yellow_tripdata \r\n",
                "WHERE \r\n",
                "  payment_type = 2"
            ],
            "metadata": {
                "azdata_cell_guid": "23dc6755-c2c3-4534-8df6-22060ace5809",
                "language": "sql"
            },
            "outputs": [
                {
                    "output_type": "display_data",
                    "data": {
                        "text/html": "(1 row affected)"
                    },
                    "metadata": {}
                },
                {
                    "output_type": "display_data",
                    "data": {
                        "text/html": "(1 row affected)"
                    },
                    "metadata": {}
                },
                {
                    "output_type": "display_data",
                    "data": {
                        "text/html": "Total execution time: 00:00:01.050"
                    },
                    "metadata": {}
                },
                {
                    "output_type": "execute_result",
                    "execution_count": 2,
                    "data": {
                        "application/vnd.dataresource+json": {
                            "schema": {
                                "fields": [
                                    {
                                        "name": "avergae_fare_amount_credit_card"
                                    }
                                ]
                            },
                            "data": [
                                {
                                    "avergae_fare_amount_credit_card": "18.660045072359292"
                                }
                            ]
                        },
                        "text/html": "<table><tr><th>avergae_fare_amount_credit_card</th></tr><tr><td>18.660045072359292</td></tr></table>"
                    },
                    "metadata": {}
                },
                {
                    "output_type": "execute_result",
                    "execution_count": 2,
                    "data": {
                        "application/vnd.dataresource+json": {
                            "schema": {
                                "fields": [
                                    {
                                        "name": "avergae_fare_amount_cash"
                                    }
                                ]
                            },
                            "data": [
                                {
                                    "avergae_fare_amount_cash": "18.082794555184687"
                                }
                            ]
                        },
                        "text/html": "<table><tr><th>avergae_fare_amount_cash</th></tr><tr><td>18.082794555184687</td></tr></table>"
                    },
                    "metadata": {}
                }
            ],
            "execution_count": 2
        },
        {
            "cell_type": "markdown",
            "source": [
                "- <span style=\"font-size: 16.38px;\"><b>The vendor (TPEP provider) with the highest number of trips</b></span>"
            ],
            "metadata": {
                "azdata_cell_guid": "bc562480-1d1f-4e67-85c0-222657dc1636"
            },
            "attachments": {}
        },
        {
            "cell_type": "code",
            "source": [
                "SELECT \r\n",
                "  TOP 1 VendorID, \r\n",
                "  COUNT(VendorID) AS top_number_trips_vendor \r\n",
                "FROM \r\n",
                "  yellow_tripdata \r\n",
                "group by \r\n",
                "  VendorID \r\n",
                "order by \r\n",
                "  top_number_trips_vendor"
            ],
            "metadata": {
                "azdata_cell_guid": "8927f740-f41f-4ee5-b591-4babe198e3f4",
                "language": "sql"
            },
            "outputs": [
                {
                    "output_type": "display_data",
                    "data": {
                        "text/html": "(1 row affected)"
                    },
                    "metadata": {}
                },
                {
                    "output_type": "display_data",
                    "data": {
                        "text/html": "Total execution time: 00:00:04.025"
                    },
                    "metadata": {}
                },
                {
                    "output_type": "execute_result",
                    "metadata": {},
                    "execution_count": 1,
                    "data": {
                        "application/vnd.dataresource+json": {
                            "schema": {
                                "fields": [
                                    {
                                        "name": "VendorID"
                                    },
                                    {
                                        "name": "top_number_trips_vendor"
                                    }
                                ]
                            },
                            "data": [
                                {
                                    "VendorID": "1",
                                    "top_number_trips_vendor": "827367"
                                }
                            ]
                        },
                        "text/html": [
                            "<table>",
                            "<tr><th>VendorID</th><th>top_number_trips_vendor</th></tr>",
                            "<tr><td>1</td><td>827367</td></tr>",
                            "</table>"
                        ]
                    }
                }
            ],
            "execution_count": 1
        },
        {
            "cell_type": "markdown",
            "source": [
                "- <span style=\"font-size: 16.38px;\"><b>The number of trips that were store-and-forward trips versus real-time trips</b></span>"
            ],
            "metadata": {
                "azdata_cell_guid": "bb1c8525-c941-4240-8e11-12a49fd43a0c"
            },
            "attachments": {}
        },
        {
            "cell_type": "code",
            "source": [
                "SELECT \r\n",
                "  COUNT(store_and_fwd_flag) AS trip_count_store_and_fwd \r\n",
                "FROM \r\n",
                "  yellow_tripdata \r\n",
                "WHERE \r\n",
                "  store_and_fwd_flag = 'Y'\r\n",
                "\r\n",
                "SELECT \r\n",
                "  COUNT(store_and_fwd_flag) AS trip_count_real_time \r\n",
                "FROM \r\n",
                "  yellow_tripdata \r\n",
                "WHERE \r\n",
                "  store_and_fwd_flag = 'N'\r\n",
                ""
            ],
            "metadata": {
                "azdata_cell_guid": "b22ba4df-c297-4a21-9146-7838811b3c60",
                "language": "sql"
            },
            "outputs": [
                {
                    "output_type": "display_data",
                    "data": {
                        "text/html": "(1 row affected)"
                    },
                    "metadata": {}
                },
                {
                    "output_type": "display_data",
                    "data": {
                        "text/html": "(1 row affected)"
                    },
                    "metadata": {}
                },
                {
                    "output_type": "display_data",
                    "data": {
                        "text/html": "Total execution time: 00:00:02.103"
                    },
                    "metadata": {}
                },
                {
                    "output_type": "execute_result",
                    "metadata": {},
                    "execution_count": 6,
                    "data": {
                        "application/vnd.dataresource+json": {
                            "schema": {
                                "fields": [
                                    {
                                        "name": "trip_count_store_and_fwd"
                                    }
                                ]
                            },
                            "data": [
                                {
                                    "trip_count_store_and_fwd": "20003"
                                }
                            ]
                        },
                        "text/html": [
                            "<table>",
                            "<tr><th>trip_count_store_and_fwd</th></tr>",
                            "<tr><td>20003</td></tr>",
                            "</table>"
                        ]
                    }
                },
                {
                    "output_type": "execute_result",
                    "metadata": {},
                    "execution_count": 6,
                    "data": {
                        "application/vnd.dataresource+json": {
                            "schema": {
                                "fields": [
                                    {
                                        "name": "trip_count_real_time"
                                    }
                                ]
                            },
                            "data": [
                                {
                                    "trip_count_real_time": "2975020"
                                }
                            ]
                        },
                        "text/html": [
                            "<table>",
                            "<tr><th>trip_count_real_time</th></tr>",
                            "<tr><td>2975020</td></tr>",
                            "</table>"
                        ]
                    }
                }
            ],
            "execution_count": 6
        },
        {
            "cell_type": "markdown",
            "source": [
                "# <mark>II- Temporal Analysis</mark>\n",
                "\n",
                "- <span style=\"font-size: 16.38px;\"><b style=\"\">The top 5 busiest hours of the day in terms of taxi pickups</b></span>"
            ],
            "metadata": {
                "azdata_cell_guid": "2128b89c-8a05-49af-b8d5-267be06d7da9"
            },
            "attachments": {}
        },
        {
            "cell_type": "code",
            "source": [
                "SELECT \r\n",
                "  TOP 5 DATEPART(HOUR, tpep_pickup_datetime) AS hour_of_day,\r\n",
                "  COUNT(*) AS number_of_pickups \r\n",
                "FROM \r\n",
                "  yellow_tripdata \r\n",
                "GROUP BY \r\n",
                "  DATEPART(HOUR, tpep_pickup_datetime) \r\n",
                "ORDER BY \r\n",
                "  number_of_pickups DESC;"
            ],
            "metadata": {
                "azdata_cell_guid": "a593721a-c326-4934-a4b5-6a9b52d58ba9",
                "language": "sql"
            },
            "outputs": [
                {
                    "output_type": "display_data",
                    "data": {
                        "text/html": "(5 rows affected)"
                    },
                    "metadata": {}
                },
                {
                    "output_type": "display_data",
                    "data": {
                        "text/html": "Total execution time: 00:00:06.784"
                    },
                    "metadata": {}
                },
                {
                    "output_type": "execute_result",
                    "metadata": {
                        "azdata_chartOptions": {
                            "type": "table",
                            "dataDirection": "vertical",
                            "columnsAsLabels": false,
                            "labelFirstColumn": false,
                            "legendPosition": "none",
                            "yAxisLabel": "Number of pickups",
                            "xAxisLabel": "Hour of the day",
                            "dataType": "number",
                            "encoding": "hex",
                            "imageFormat": "jpeg"
                        }
                    },
                    "execution_count": 8,
                    "data": {
                        "application/vnd.dataresource+json": {
                            "schema": {
                                "fields": [
                                    {
                                        "name": "hour_of_day"
                                    },
                                    {
                                        "name": "number_of_pickups"
                                    }
                                ]
                            },
                            "data": [
                                {
                                    "hour_of_day": "18",
                                    "number_of_pickups": "215889"
                                },
                                {
                                    "hour_of_day": "17",
                                    "number_of_pickups": "209493"
                                },
                                {
                                    "hour_of_day": "15",
                                    "number_of_pickups": "196424"
                                },
                                {
                                    "hour_of_day": "16",
                                    "number_of_pickups": "195977"
                                },
                                {
                                    "hour_of_day": "19",
                                    "number_of_pickups": "192801"
                                }
                            ]
                        },
                        "text/html": [
                            "<table>",
                            "<tr><th>hour_of_day</th><th>number_of_pickups</th></tr>",
                            "<tr><td>18</td><td>215889</td></tr>",
                            "<tr><td>17</td><td>209493</td></tr>",
                            "<tr><td>15</td><td>196424</td></tr>",
                            "<tr><td>16</td><td>195977</td></tr>",
                            "<tr><td>19</td><td>192801</td></tr>",
                            "</table>"
                        ]
                    }
                }
            ],
            "execution_count": 8
        },
        {
            "cell_type": "markdown",
            "source": [
                "- <span style=\"font-size: 16.38px;\"><b>The total fare amount earned on each day of the week</b></span>"
            ],
            "metadata": {
                "azdata_cell_guid": "9c815744-87fe-4985-81b2-dd9a2f30d30b"
            },
            "attachments": {}
        },
        {
            "cell_type": "code",
            "source": [
                "SELECT \r\n",
                "  DATENAME(WEEKDAY, tpep_pickup_datetime) AS day_of_week, \r\n",
                "  SUM(fare_amount) AS total_fare_amount \r\n",
                "FROM \r\n",
                "  yellow_tripdata \r\n",
                "GROUP BY \r\n",
                "  DATENAME(WEEKDAY, tpep_pickup_datetime) \r\n",
                "ORDER BY \r\n",
                "  total_fare_amount DESC\r\n",
                ""
            ],
            "metadata": {
                "azdata_cell_guid": "cf31b3b9-4c34-4c7b-9cbb-c9db76041829",
                "language": "sql"
            },
            "outputs": [
                {
                    "output_type": "display_data",
                    "data": {
                        "text/html": "(7 rows affected)"
                    },
                    "metadata": {}
                },
                {
                    "output_type": "display_data",
                    "data": {
                        "text/html": "Total execution time: 00:00:08.952"
                    },
                    "metadata": {}
                },
                {
                    "output_type": "execute_result",
                    "metadata": {
                        "azdata_chartOptions": {
                            "type": "table",
                            "dataDirection": "vertical",
                            "columnsAsLabels": false,
                            "labelFirstColumn": false,
                            "legendPosition": "none",
                            "yAxisLabel": "Total fare amount",
                            "xAxisLabel": "",
                            "dataType": "number",
                            "encoding": "hex",
                            "imageFormat": "jpeg"
                        }
                    },
                    "execution_count": 9,
                    "data": {
                        "application/vnd.dataresource+json": {
                            "schema": {
                                "fields": [
                                    {
                                        "name": "day_of_week"
                                    },
                                    {
                                        "name": "total_fare_amount"
                                    }
                                ]
                            },
                            "data": [
                                {
                                    "day_of_week": "Tuesday",
                                    "total_fare_amount": "8985842.05554979"
                                },
                                {
                                    "day_of_week": "Sunday",
                                    "total_fare_amount": "8531542.71574158"
                                },
                                {
                                    "day_of_week": "Thursday",
                                    "total_fare_amount": "8046236.605793348"
                                },
                                {
                                    "day_of_week": "Friday",
                                    "total_fare_amount": "7844027.875660047"
                                },
                                {
                                    "day_of_week": "Monday",
                                    "total_fare_amount": "7833272.376093611"
                                },
                                {
                                    "day_of_week": "Saturday",
                                    "total_fare_amount": "7653207.594614366"
                                },
                                {
                                    "day_of_week": "Wednesday",
                                    "total_fare_amount": "7433372.354479155"
                                }
                            ]
                        },
                        "text/html": [
                            "<table>",
                            "<tr><th>day_of_week</th><th>total_fare_amount</th></tr>",
                            "<tr><td>Tuesday</td><td>8985842.05554979</td></tr>",
                            "<tr><td>Sunday</td><td>8531542.71574158</td></tr>",
                            "<tr><td>Thursday</td><td>8046236.605793348</td></tr>",
                            "<tr><td>Friday</td><td>7844027.875660047</td></tr>",
                            "<tr><td>Monday</td><td>7833272.376093611</td></tr>",
                            "<tr><td>Saturday</td><td>7653207.594614366</td></tr>",
                            "<tr><td>Wednesday</td><td>7433372.354479155</td></tr>",
                            "</table>"
                        ]
                    }
                }
            ],
            "execution_count": 9
        },
        {
            "cell_type": "markdown",
            "source": [
                "- <span style=\"font-size: 16.38px;\"><b>The average trip duration for rides originating from JFK Airport in minutes</b></span>"
            ],
            "metadata": {
                "azdata_cell_guid": "bdff28f8-614a-4e27-9fb0-0f63df68afd7"
            },
            "attachments": {}
        },
        {
            "cell_type": "code",
            "source": [
                "SELECT \r\n",
                "  AVG(\r\n",
                "    DATEDIFF(\r\n",
                "      MINUTE, tpep_pickup_datetime, tpep_dropoff_datetime\r\n",
                "    )\r\n",
                "  ) AS Average_duration_JFK_airport \r\n",
                "FROM \r\n",
                "  yellow_tripdata \r\n",
                "WHERE \r\n",
                "  RatecodeID = 2"
            ],
            "metadata": {
                "azdata_cell_guid": "0b59bce7-6806-4a97-b172-5be8d8b3725a",
                "language": "sql"
            },
            "outputs": [
                {
                    "output_type": "display_data",
                    "data": {
                        "text/html": "(1 row affected)"
                    },
                    "metadata": {}
                },
                {
                    "output_type": "display_data",
                    "data": {
                        "text/html": "Total execution time: 00:00:00.636"
                    },
                    "metadata": {}
                },
                {
                    "output_type": "execute_result",
                    "metadata": {},
                    "execution_count": 10,
                    "data": {
                        "application/vnd.dataresource+json": {
                            "schema": {
                                "fields": [
                                    {
                                        "name": "Average_duration_JFK_airport"
                                    }
                                ]
                            },
                            "data": [
                                {
                                    "Average_duration_JFK_airport": "42"
                                }
                            ]
                        },
                        "text/html": [
                            "<table>",
                            "<tr><th>Average_duration_JFK_airport</th></tr>",
                            "<tr><td>42</td></tr>",
                            "</table>"
                        ]
                    }
                }
            ],
            "execution_count": 10
        },
        {
            "cell_type": "markdown",
            "source": [
                "- <span style=\"font-size: 16.38px;\"><b>The total number of passengers in each day of January</b></span>"
            ],
            "metadata": {
                "azdata_cell_guid": "0302566e-01a3-4f69-aac1-a6b70e36f6ec"
            },
            "attachments": {}
        },
        {
            "cell_type": "code",
            "source": [
                "SELECT \r\n",
                "  DISTINCT CONVERT(DATE, tpep_pickup_datetime) AS day_of_week, \r\n",
                "  SUM(passenger_count) AS total_passengers \r\n",
                "FROM \r\n",
                "  yellow_tripdata \r\n",
                "WHERE \r\n",
                "  tpep_pickup_datetime LIKE '2023%' \r\n",
                "  AND tpep_pickup_datetime NOT LIKE '2023-02%' \r\n",
                "GROUP BY \r\n",
                "  CONVERT(DATE, tpep_pickup_datetime) \r\n",
                "ORDER BY \r\n",
                "  total_passengers DESC\r\n",
                ""
            ],
            "metadata": {
                "azdata_cell_guid": "a2682c2f-4d65-460f-8169-ea6610de6285",
                "language": "sql"
            },
            "outputs": [
                {
                    "output_type": "display_data",
                    "data": {
                        "text/html": "Warning: Null value is eliminated by an aggregate or other SET operation."
                    },
                    "metadata": {}
                },
                {
                    "output_type": "display_data",
                    "data": {
                        "text/html": "(31 rows affected)"
                    },
                    "metadata": {}
                },
                {
                    "output_type": "display_data",
                    "data": {
                        "text/html": "Total execution time: 00:00:03.801"
                    },
                    "metadata": {}
                },
                {
                    "output_type": "execute_result",
                    "metadata": {},
                    "execution_count": 13,
                    "data": {
                        "application/vnd.dataresource+json": {
                            "schema": {
                                "fields": [
                                    {
                                        "name": "day_of_week"
                                    },
                                    {
                                        "name": "total_passengers"
                                    }
                                ]
                            },
                            "data": [
                                {
                                    "day_of_week": "2023-01-14",
                                    "total_passengers": "161472"
                                },
                                {
                                    "day_of_week": "2023-01-21",
                                    "total_passengers": "157079"
                                },
                                {
                                    "day_of_week": "2023-01-28",
                                    "total_passengers": "156998"
                                },
                                {
                                    "day_of_week": "2023-01-07",
                                    "total_passengers": "150762"
                                },
                                {
                                    "day_of_week": "2023-01-13",
                                    "total_passengers": "148916"
                                },
                                {
                                    "day_of_week": "2023-01-27",
                                    "total_passengers": "148000"
                                },
                                {
                                    "day_of_week": "2023-01-26",
                                    "total_passengers": "145634"
                                },
                                {
                                    "day_of_week": "2023-01-20",
                                    "total_passengers": "144469"
                                },
                                {
                                    "day_of_week": "2023-01-19",
                                    "total_passengers": "144329"
                                },
                                {
                                    "day_of_week": "2023-01-12",
                                    "total_passengers": "141916"
                                },
                                {
                                    "day_of_week": "2023-01-06",
                                    "total_passengers": "138524"
                                },
                                {
                                    "day_of_week": "2023-01-15",
                                    "total_passengers": "137568"
                                },
                                {
                                    "day_of_week": "2023-01-25",
                                    "total_passengers": "135646"
                                },
                                {
                                    "day_of_week": "2023-01-11",
                                    "total_passengers": "135604"
                                },
                                {
                                    "day_of_week": "2023-01-18",
                                    "total_passengers": "134363"
                                },
                                {
                                    "day_of_week": "2023-01-05",
                                    "total_passengers": "133863"
                                },
                                {
                                    "day_of_week": "2023-01-24",
                                    "total_passengers": "131143"
                                },
                                {
                                    "day_of_week": "2023-01-17",
                                    "total_passengers": "127895"
                                },
                                {
                                    "day_of_week": "2023-01-10",
                                    "total_passengers": "127417"
                                },
                                {
                                    "day_of_week": "2023-01-04",
                                    "total_passengers": "126389"
                                },
                                {
                                    "day_of_week": "2023-01-31",
                                    "total_passengers": "125993"
                                },
                                {
                                    "day_of_week": "2023-01-22",
                                    "total_passengers": "123464"
                                },
                                {
                                    "day_of_week": "2023-01-29",
                                    "total_passengers": "120854"
                                },
                                {
                                    "day_of_week": "2023-01-08",
                                    "total_passengers": "118909"
                                },
                                {
                                    "day_of_week": "2023-01-03",
                                    "total_passengers": "115287"
                                },
                                {
                                    "day_of_week": "2023-01-01",
                                    "total_passengers": "113974"
                                },
                                {
                                    "day_of_week": "2023-01-23",
                                    "total_passengers": "113590"
                                },
                                {
                                    "day_of_week": "2023-01-09",
                                    "total_passengers": "109354"
                                },
                                {
                                    "day_of_week": "2023-01-16",
                                    "total_passengers": "108501"
                                },
                                {
                                    "day_of_week": "2023-01-30",
                                    "total_passengers": "105991"
                                },
                                {
                                    "day_of_week": "2023-01-02",
                                    "total_passengers": "96851"
                                }
                            ]
                        },
                        "text/html": [
                            "<table>",
                            "<tr><th>day_of_week</th><th>total_passengers</th></tr>",
                            "<tr><td>2023-01-14</td><td>161472</td></tr>",
                            "<tr><td>2023-01-21</td><td>157079</td></tr>",
                            "<tr><td>2023-01-28</td><td>156998</td></tr>",
                            "<tr><td>2023-01-07</td><td>150762</td></tr>",
                            "<tr><td>2023-01-13</td><td>148916</td></tr>",
                            "<tr><td>2023-01-27</td><td>148000</td></tr>",
                            "<tr><td>2023-01-26</td><td>145634</td></tr>",
                            "<tr><td>2023-01-20</td><td>144469</td></tr>",
                            "<tr><td>2023-01-19</td><td>144329</td></tr>",
                            "<tr><td>2023-01-12</td><td>141916</td></tr>",
                            "<tr><td>2023-01-06</td><td>138524</td></tr>",
                            "<tr><td>2023-01-15</td><td>137568</td></tr>",
                            "<tr><td>2023-01-25</td><td>135646</td></tr>",
                            "<tr><td>2023-01-11</td><td>135604</td></tr>",
                            "<tr><td>2023-01-18</td><td>134363</td></tr>",
                            "<tr><td>2023-01-05</td><td>133863</td></tr>",
                            "<tr><td>2023-01-24</td><td>131143</td></tr>",
                            "<tr><td>2023-01-17</td><td>127895</td></tr>",
                            "<tr><td>2023-01-10</td><td>127417</td></tr>",
                            "<tr><td>2023-01-04</td><td>126389</td></tr>",
                            "<tr><td>2023-01-31</td><td>125993</td></tr>",
                            "<tr><td>2023-01-22</td><td>123464</td></tr>",
                            "<tr><td>2023-01-29</td><td>120854</td></tr>",
                            "<tr><td>2023-01-08</td><td>118909</td></tr>",
                            "<tr><td>2023-01-03</td><td>115287</td></tr>",
                            "<tr><td>2023-01-01</td><td>113974</td></tr>",
                            "<tr><td>2023-01-23</td><td>113590</td></tr>",
                            "<tr><td>2023-01-09</td><td>109354</td></tr>",
                            "<tr><td>2023-01-16</td><td>108501</td></tr>",
                            "<tr><td>2023-01-30</td><td>105991</td></tr>",
                            "<tr><td>2023-01-02</td><td>96851</td></tr>",
                            "</table>"
                        ]
                    }
                }
            ],
            "execution_count": 13
        },
        {
            "cell_type": "markdown",
            "source": [
                "# <mark>III-Geospatial Analysis:</mark>\n",
                "\n",
                "- <span style=\"font-size: 16.38px;\"><b>The TLC Taxi Zone with the highest number of drop-offs</b></span>"
            ],
            "metadata": {
                "azdata_cell_guid": "d1b01983-32a8-4e5e-a646-e9c4288a94a3"
            },
            "attachments": {}
        },
        {
            "cell_type": "code",
            "source": [
                "SELECT \r\n",
                "  TOP 1 DOLocationID, \r\n",
                "  COUNT(DOLocationID) AS top_number_dropoffs\r\n",
                "FROM \r\n",
                "  yellow_tripdata \r\n",
                "GROUP BY \r\n",
                "  DOLocationID \r\n",
                "ORDER BY \r\n",
                "  top_number_dropoffs DESC\r\n",
                ""
            ],
            "metadata": {
                "azdata_cell_guid": "2a497404-098d-4dd3-9022-bfa232518e9f",
                "language": "sql"
            },
            "outputs": [
                {
                    "output_type": "display_data",
                    "data": {
                        "text/html": "(1 row affected)"
                    },
                    "metadata": {}
                },
                {
                    "output_type": "display_data",
                    "data": {
                        "text/html": "Total execution time: 00:00:00.737"
                    },
                    "metadata": {}
                },
                {
                    "output_type": "execute_result",
                    "metadata": {},
                    "execution_count": 17,
                    "data": {
                        "application/vnd.dataresource+json": {
                            "schema": {
                                "fields": [
                                    {
                                        "name": "DOLocationID"
                                    },
                                    {
                                        "name": "top_number_dropoffs"
                                    }
                                ]
                            },
                            "data": [
                                {
                                    "DOLocationID": "236",
                                    "top_number_dropoffs": "146348"
                                }
                            ]
                        },
                        "text/html": [
                            "<table>",
                            "<tr><th>DOLocationID</th><th>top_number_dropoffs</th></tr>",
                            "<tr><td>236</td><td>146348</td></tr>",
                            "</table>"
                        ]
                    }
                }
            ],
            "execution_count": 17
        },
        {
            "cell_type": "markdown",
            "source": [
                "- <span style=\"font-size: 16.38px;\"><b>The top 5 TLC Taxi Zones for pick-ups during rush hours</b></span>"
            ],
            "metadata": {
                "azdata_cell_guid": "9a94e932-ffad-4f6e-9920-d14bc4de5521"
            },
            "attachments": {}
        },
        {
            "cell_type": "code",
            "source": [
                "SELECT \r\n",
                "  TOP 5 PULocationID, \r\n",
                "  COUNT(PULocationID) AS total_pickups \r\n",
                "FROM \r\n",
                "  yellow_tripdata \r\n",
                "WHERE \r\n",
                "  tpep_pickup_datetime LIKE '%T07%' \r\n",
                "  OR tpep_pickup_datetime LIKE '%T08%' \r\n",
                "  OR tpep_pickup_datetime LIKE '%T09%' \r\n",
                "  OR tpep_pickup_datetime LIKE '%T16%' \r\n",
                "  OR tpep_pickup_datetime LIKE '%T17%' \r\n",
                "  OR tpep_pickup_datetime LIKE '%T18%' \r\n",
                "  OR tpep_pickup_datetime LIKE '%T19%' \r\n",
                "GROUP BY \r\n",
                "  PULocationID \r\n",
                "ORDER BY \r\n",
                "  total_pickups DESC\r\n",
                ""
            ],
            "metadata": {
                "azdata_cell_guid": "d4461fe2-931e-4a8d-bfed-2de25f693e6d",
                "language": "sql"
            },
            "outputs": [
                {
                    "output_type": "display_data",
                    "data": {
                        "text/html": "(5 rows affected)"
                    },
                    "metadata": {}
                },
                {
                    "output_type": "display_data",
                    "data": {
                        "text/html": "Total execution time: 00:00:40.948"
                    },
                    "metadata": {}
                },
                {
                    "output_type": "execute_result",
                    "metadata": {},
                    "execution_count": 18,
                    "data": {
                        "application/vnd.dataresource+json": {
                            "schema": {
                                "fields": [
                                    {
                                        "name": "PULocationID"
                                    },
                                    {
                                        "name": "total_pickups"
                                    }
                                ]
                            },
                            "data": [
                                {
                                    "PULocationID": "236",
                                    "total_pickups": "60529"
                                },
                                {
                                    "PULocationID": "237",
                                    "total_pickups": "59412"
                                },
                                {
                                    "PULocationID": "132",
                                    "total_pickups": "56821"
                                },
                                {
                                    "PULocationID": "161",
                                    "total_pickups": "54114"
                                },
                                {
                                    "PULocationID": "162",
                                    "total_pickups": "46412"
                                }
                            ]
                        },
                        "text/html": [
                            "<table>",
                            "<tr><th>PULocationID</th><th>total_pickups</th></tr>",
                            "<tr><td>236</td><td>60529</td></tr>",
                            "<tr><td>237</td><td>59412</td></tr>",
                            "<tr><td>132</td><td>56821</td></tr>",
                            "<tr><td>161</td><td>54114</td></tr>",
                            "<tr><td>162</td><td>46412</td></tr>",
                            "</table>"
                        ]
                    }
                }
            ],
            "execution_count": 18
        },
        {
            "cell_type": "markdown",
            "source": [
                "- <span style=\"font-size: 16.38px;\"><b>The total number of trips with drop-offs at JFK Airport</b></span>"
            ],
            "metadata": {
                "azdata_cell_guid": "4bac6d80-6da1-431a-8d6b-492af7216207"
            },
            "attachments": {}
        },
        {
            "cell_type": "code",
            "source": [
                "SELECT \r\n",
                "  COUNT(airport_fee) AS number_dropoffs_JFK \r\n",
                "FROM \r\n",
                "  yellow_tripdata \r\n",
                "WHERE \r\n",
                "  airport_fee = 1.25 \r\n",
                "  AND passenger_count > 0"
            ],
            "metadata": {
                "azdata_cell_guid": "87c7d44b-498d-4a48-8ebc-fc464095f74d",
                "language": "sql"
            },
            "outputs": [
                {
                    "output_type": "display_data",
                    "data": {
                        "text/html": "(1 row affected)"
                    },
                    "metadata": {}
                },
                {
                    "output_type": "display_data",
                    "data": {
                        "text/html": "Total execution time: 00:00:00.331"
                    },
                    "metadata": {}
                },
                {
                    "output_type": "execute_result",
                    "metadata": {},
                    "execution_count": 20,
                    "data": {
                        "application/vnd.dataresource+json": {
                            "schema": {
                                "fields": [
                                    {
                                        "name": "number_dropoffs_JFK"
                                    }
                                ]
                            },
                            "data": [
                                {
                                    "number_dropoffs_JFK": "258060"
                                }
                            ]
                        },
                        "text/html": [
                            "<table>",
                            "<tr><th>number_dropoffs_JFK</th></tr>",
                            "<tr><td>258060</td></tr>",
                            "</table>"
                        ]
                    }
                }
            ],
            "execution_count": 20
        },
        {
            "cell_type": "markdown",
            "source": [
                "# **<mark>IV-Payment Analysis:</mark>**\n",
                "\n",
                "- <span style=\"font-size: 16.38px;\"><b style=\"\">The percentage breakdown of different payment made with a credit card versus cash for all trips</b></span>"
            ],
            "metadata": {
                "azdata_cell_guid": "b72ca028-33a8-4cc5-8a79-fbb2e344f4e1"
            },
            "attachments": {}
        },
        {
            "cell_type": "markdown",
            "source": [
                "**1\\. Credit Card:**"
            ],
            "metadata": {
                "azdata_cell_guid": "1d69746a-9ecb-4b7c-a936-d77dee60fd43"
            },
            "attachments": {}
        },
        {
            "cell_type": "code",
            "source": [
                "SELECT \r\n",
                "  (\r\n",
                "    COUNT(CASE WHEN payment_type = 1 THEN 1 END) * 100 / COUNT(payment_type)\r\n",
                "  ) AS percentage_credit_card \r\n",
                "FROM \r\n",
                "  yellow_tripdata;\r\n",
                ""
            ],
            "metadata": {
                "azdata_cell_guid": "dd597762-188a-45ea-aef7-95b0ea679bbd",
                "language": "sql"
            },
            "outputs": [
                {
                    "output_type": "display_data",
                    "data": {
                        "text/html": "Warning: Null value is eliminated by an aggregate or other SET operation."
                    },
                    "metadata": {}
                },
                {
                    "output_type": "display_data",
                    "data": {
                        "text/html": "(1 row affected)"
                    },
                    "metadata": {}
                },
                {
                    "output_type": "display_data",
                    "data": {
                        "text/html": "Total execution time: 00:00:00.672"
                    },
                    "metadata": {}
                },
                {
                    "output_type": "execute_result",
                    "metadata": {},
                    "execution_count": 21,
                    "data": {
                        "application/vnd.dataresource+json": {
                            "schema": {
                                "fields": [
                                    {
                                        "name": "percentage_credit_card"
                                    }
                                ]
                            },
                            "data": [
                                {
                                    "percentage_credit_card": "78"
                                }
                            ]
                        },
                        "text/html": [
                            "<table>",
                            "<tr><th>percentage_credit_card</th></tr>",
                            "<tr><td>78</td></tr>",
                            "</table>"
                        ]
                    }
                }
            ],
            "execution_count": 21
        },
        {
            "cell_type": "markdown",
            "source": [
                "**2\\. Cash:**"
            ],
            "metadata": {
                "azdata_cell_guid": "4d6572be-fd55-4f6d-944f-ab7572dc5701"
            },
            "attachments": {}
        },
        {
            "cell_type": "code",
            "source": [
                "SELECT \r\n",
                "  (\r\n",
                "    COUNT(CASE WHEN payment_type = 2 THEN 2 END) * 100 / COUNT(payment_type)\r\n",
                "  ) AS percentage_cash \r\n",
                "FROM \r\n",
                "  yellow_tripdata\t\r\n",
                ""
            ],
            "metadata": {
                "azdata_cell_guid": "fadb6008-6ea1-4285-acd0-22de116149c1",
                "language": "sql"
            },
            "outputs": [
                {
                    "output_type": "display_data",
                    "data": {
                        "text/html": "Warning: Null value is eliminated by an aggregate or other SET operation."
                    },
                    "metadata": {}
                },
                {
                    "output_type": "display_data",
                    "data": {
                        "text/html": "(1 row affected)"
                    },
                    "metadata": {}
                },
                {
                    "output_type": "display_data",
                    "data": {
                        "text/html": "Total execution time: 00:00:00.682"
                    },
                    "metadata": {}
                },
                {
                    "output_type": "execute_result",
                    "metadata": {},
                    "execution_count": 22,
                    "data": {
                        "application/vnd.dataresource+json": {
                            "schema": {
                                "fields": [
                                    {
                                        "name": "percentage_cash"
                                    }
                                ]
                            },
                            "data": [
                                {
                                    "percentage_cash": "17"
                                }
                            ]
                        },
                        "text/html": [
                            "<table>",
                            "<tr><th>percentage_cash</th></tr>",
                            "<tr><td>17</td></tr>",
                            "</table>"
                        ]
                    }
                }
            ],
            "execution_count": 22
        },
        {
            "cell_type": "markdown",
            "source": [
                "- <span style=\"font-size: 16.38px;\"><b>The total tip amounts for credit card payments versus cash payments</b></span>"
            ],
            "metadata": {
                "azdata_cell_guid": "dc3d5ad6-0819-40b4-a16f-3374bfe3622e"
            },
            "attachments": {}
        },
        {
            "cell_type": "code",
            "source": [
                "SELECT \r\n",
                "  SUM(tip_amount) AS total_tip_credit_card \r\n",
                "FROM \r\n",
                "  yellow_tripdata \r\n",
                "WHERE \r\n",
                "  payment_type = 1\t\t\r\n",
                "\r\n",
                "SELECT \r\n",
                "  SUM(tip_amount) AS total_tip_cash \r\n",
                "FROM \r\n",
                "  yellow_tripdata \r\n",
                "WHERE \r\n",
                "  payment_type = 2\r\n",
                "\r\n",
                ""
            ],
            "metadata": {
                "azdata_cell_guid": "5faac1f5-c8c7-49bb-964e-4fb0bb2b859e",
                "language": "sql"
            },
            "outputs": [
                {
                    "output_type": "display_data",
                    "data": {
                        "text/html": "Warning: Null value is eliminated by an aggregate or other SET operation."
                    },
                    "metadata": {}
                },
                {
                    "output_type": "display_data",
                    "data": {
                        "text/html": "(1 row affected)"
                    },
                    "metadata": {}
                },
                {
                    "output_type": "display_data",
                    "data": {
                        "text/html": "(1 row affected)"
                    },
                    "metadata": {}
                },
                {
                    "output_type": "display_data",
                    "data": {
                        "text/html": "Total execution time: 00:00:01.035"
                    },
                    "metadata": {}
                },
                {
                    "output_type": "execute_result",
                    "metadata": {},
                    "execution_count": 25,
                    "data": {
                        "application/vnd.dataresource+json": {
                            "schema": {
                                "fields": [
                                    {
                                        "name": "total_tip_credit_card"
                                    }
                                ]
                            },
                            "data": [
                                {
                                    "total_tip_credit_card": "10057923.860819185"
                                }
                            ]
                        },
                        "text/html": [
                            "<table>",
                            "<tr><th>total_tip_credit_card</th></tr>",
                            "<tr><td>10057923.860819185</td></tr>",
                            "</table>"
                        ]
                    }
                },
                {
                    "output_type": "execute_result",
                    "metadata": {},
                    "execution_count": 25,
                    "data": {
                        "application/vnd.dataresource+json": {
                            "schema": {
                                "fields": [
                                    {
                                        "name": "total_tip_cash"
                                    }
                                ]
                            },
                            "data": [
                                {
                                    "total_tip_cash": "891.5100013297051"
                                }
                            ]
                        },
                        "text/html": [
                            "<table>",
                            "<tr><th>total_tip_cash</th></tr>",
                            "<tr><td>891.5100013297051</td></tr>",
                            "</table>"
                        ]
                    }
                }
            ],
            "execution_count": 25
        },
        {
            "cell_type": "markdown",
            "source": [
                "- <span style=\"font-size: 16.38px;\"><b>The total number of trips that resulted in disputes or voided trips</b></span>"
            ],
            "metadata": {
                "azdata_cell_guid": "73977d3b-0db6-42b9-93a5-55775a3c801d"
            },
            "attachments": {}
        },
        {
            "cell_type": "code",
            "source": [
                "SELECT \r\n",
                "  COUNT(payment_type) AS count_voided_dispute_trips \r\n",
                "FROM \r\n",
                "  yellow_tripdata \r\n",
                "WHERE \r\n",
                "  payment_type = 4 \r\n",
                "  OR payment_type = 6\r\n",
                ""
            ],
            "metadata": {
                "azdata_cell_guid": "5730d92a-126d-451b-95fb-1d2c7ee4d7e3",
                "language": "sql"
            },
            "outputs": [
                {
                    "output_type": "display_data",
                    "data": {
                        "text/html": "(1 row affected)"
                    },
                    "metadata": {}
                },
                {
                    "output_type": "display_data",
                    "data": {
                        "text/html": "Total execution time: 00:00:00.416"
                    },
                    "metadata": {}
                },
                {
                    "output_type": "execute_result",
                    "metadata": {},
                    "execution_count": 26,
                    "data": {
                        "application/vnd.dataresource+json": {
                            "schema": {
                                "fields": [
                                    {
                                        "name": "count_voided_dispute_trips"
                                    }
                                ]
                            },
                            "data": [
                                {
                                    "count_voided_dispute_trips": "33297"
                                }
                            ]
                        },
                        "text/html": [
                            "<table>",
                            "<tr><th>count_voided_dispute_trips</th></tr>",
                            "<tr><td>33297</td></tr>",
                            "</table>"
                        ]
                    }
                }
            ],
            "execution_count": 26
        },
        {
            "cell_type": "markdown",
            "source": [
                "# **<mark>V- Rate Code and Surcharge Analysis:</mark>**\n",
                "\n",
                "- <span style=\"font-size: 16.38px;\"><b>The rate code that is most commonly used by passengers</b></span>"
            ],
            "metadata": {
                "azdata_cell_guid": "ad566cbe-c6a4-42f9-981a-4cbe320a9548"
            },
            "attachments": {}
        },
        {
            "cell_type": "code",
            "source": [
                "SELECT \r\n",
                "  TOP 1 RatecodeID, \r\n",
                "  COUNT (RatecodeID) AS count_used_ratecode \r\n",
                "FROM \r\n",
                "  yellow_tripdata \r\n",
                "GROUP BY \r\n",
                "  RatecodeID \r\n",
                "ORDER BY \r\n",
                "  count_used_ratecode DESC"
            ],
            "metadata": {
                "azdata_cell_guid": "066703af-e102-41a3-895e-c144a6f2ea3d",
                "language": "sql"
            },
            "outputs": [
                {
                    "output_type": "display_data",
                    "data": {
                        "text/html": "Warning: Null value is eliminated by an aggregate or other SET operation."
                    },
                    "metadata": {}
                },
                {
                    "output_type": "display_data",
                    "data": {
                        "text/html": "(1 row affected)"
                    },
                    "metadata": {}
                },
                {
                    "output_type": "display_data",
                    "data": {
                        "text/html": "Total execution time: 00:00:00.774"
                    },
                    "metadata": {}
                },
                {
                    "output_type": "execute_result",
                    "metadata": {},
                    "execution_count": 27,
                    "data": {
                        "application/vnd.dataresource+json": {
                            "schema": {
                                "fields": [
                                    {
                                        "name": "RatecodeID"
                                    },
                                    {
                                        "name": "count_used_ratecode"
                                    }
                                ]
                            },
                            "data": [
                                {
                                    "RatecodeID": "1",
                                    "count_used_ratecode": "2839305"
                                }
                            ]
                        },
                        "text/html": [
                            "<table>",
                            "<tr><th>RatecodeID</th><th>count_used_ratecode</th></tr>",
                            "<tr><td>1</td><td>2839305</td></tr>",
                            "</table>"
                        ]
                    }
                }
            ],
            "execution_count": 27
        },
        {
            "cell_type": "markdown",
            "source": [
                "- <span style=\"font-size: 16.38px;\"><b>The average total amount collected for trips with a negotiated fare rate code</b></span>"
            ],
            "metadata": {
                "azdata_cell_guid": "be2f0ee0-240d-44af-b56b-3a66970a9b82"
            },
            "attachments": {}
        },
        {
            "cell_type": "code",
            "source": [
                "SELECT \r\n",
                "  AVG(total_amount) AS avg_amount_negotiated_fare \r\n",
                "FROM \r\n",
                "  yellow_tripdata \r\n",
                "WHERE \r\n",
                "  RatecodeID = 5"
            ],
            "metadata": {
                "azdata_cell_guid": "7f8ce8e1-185e-4952-85c6-d3f1445e3ec2",
                "language": "sql",
                "tags": []
            },
            "outputs": [
                {
                    "output_type": "display_data",
                    "data": {
                        "text/html": "(1 row affected)"
                    },
                    "metadata": {}
                },
                {
                    "output_type": "display_data",
                    "data": {
                        "text/html": "Total execution time: 00:00:00.314"
                    },
                    "metadata": {}
                },
                {
                    "output_type": "execute_result",
                    "metadata": {},
                    "execution_count": 29,
                    "data": {
                        "application/vnd.dataresource+json": {
                            "schema": {
                                "fields": [
                                    {
                                        "name": "avg_amount_negotiated_fare"
                                    }
                                ]
                            },
                            "data": [
                                {
                                    "avg_amount_negotiated_fare": "81.39236327324872"
                                }
                            ]
                        },
                        "text/html": [
                            "<table>",
                            "<tr><th>avg_amount_negotiated_fare</th></tr>",
                            "<tr><td>81.39236327324872</td></tr>",
                            "</table>"
                        ]
                    }
                }
            ],
            "execution_count": 29
        },
        {
            "cell_type": "markdown",
            "source": [
                "- <span style=\"font-size: 16.38px;\"><b>The total amount of revenue that was generated from the congestion surcharge in January</b></span>"
            ],
            "metadata": {
                "azdata_cell_guid": "4dd97db9-4425-4230-98a2-d14ffae08f7e"
            },
            "attachments": {}
        },
        {
            "cell_type": "code",
            "source": [
                "SELECT \r\n",
                "  SUM(congestion_surcharge) AS total_revenue_surcharge_congestion \r\n",
                "FROM \r\n",
                "  yellow_tripdata"
            ],
            "metadata": {
                "azdata_cell_guid": "3bdaab86-0b4e-49be-aef0-f6f754434ced",
                "language": "sql"
            },
            "outputs": [
                {
                    "output_type": "display_data",
                    "data": {
                        "text/html": "Warning: Null value is eliminated by an aggregate or other SET operation."
                    },
                    "metadata": {}
                },
                {
                    "output_type": "display_data",
                    "data": {
                        "text/html": "(1 row affected)"
                    },
                    "metadata": {}
                },
                {
                    "output_type": "display_data",
                    "data": {
                        "text/html": "Total execution time: 00:00:00.648"
                    },
                    "metadata": {}
                },
                {
                    "output_type": "execute_result",
                    "metadata": {},
                    "execution_count": 30,
                    "data": {
                        "application/vnd.dataresource+json": {
                            "schema": {
                                "fields": [
                                    {
                                        "name": "total_revenue_surcharge_congestion"
                                    }
                                ]
                            },
                            "data": [
                                {
                                    "total_revenue_surcharge_congestion": "6811375"
                                }
                            ]
                        },
                        "text/html": [
                            "<table>",
                            "<tr><th>total_revenue_surcharge_congestion</th></tr>",
                            "<tr><td>6811375</td></tr>",
                            "</table>"
                        ]
                    }
                }
            ],
            "execution_count": 30
        },
        {
            "cell_type": "markdown",
            "source": [
                "# **<mark>VI- Passenger Count Analysis:</mark>**\n",
                "\n",
                "- <span style=\"font-size: 16.38px;\"><b>The distribution of passenger counts per trip</b></span>"
            ],
            "metadata": {
                "azdata_cell_guid": "419d17b0-45a8-4fe6-8674-b30e214db830"
            },
            "attachments": {}
        },
        {
            "cell_type": "code",
            "source": [
                "SELECT \r\n",
                "  passenger_count, \r\n",
                "  COUNT(passenger_count) AS total_trips \r\n",
                "FROM \r\n",
                "  yellow_tripdata \r\n",
                "WHERE \r\n",
                "  passenger_count > 0 \r\n",
                "GROUP BY \r\n",
                "  passenger_count \r\n",
                "ORDER BY \r\n",
                "  passenger_count ASC"
            ],
            "metadata": {
                "azdata_cell_guid": "2729da19-779d-4ab8-9b6c-0430796a6b33",
                "language": "sql"
            },
            "outputs": [
                {
                    "output_type": "display_data",
                    "data": {
                        "text/html": "(9 rows affected)"
                    },
                    "metadata": {}
                },
                {
                    "output_type": "display_data",
                    "data": {
                        "text/html": "Total execution time: 00:00:00.779"
                    },
                    "metadata": {}
                },
                {
                    "output_type": "execute_result",
                    "metadata": {},
                    "execution_count": 31,
                    "data": {
                        "application/vnd.dataresource+json": {
                            "schema": {
                                "fields": [
                                    {
                                        "name": "passenger_count"
                                    },
                                    {
                                        "name": "total_trips"
                                    }
                                ]
                            },
                            "data": [
                                {
                                    "passenger_count": "1",
                                    "total_trips": "2261400"
                                },
                                {
                                    "passenger_count": "2",
                                    "total_trips": "451536"
                                },
                                {
                                    "passenger_count": "3",
                                    "total_trips": "106353"
                                },
                                {
                                    "passenger_count": "4",
                                    "total_trips": "53745"
                                },
                                {
                                    "passenger_count": "5",
                                    "total_trips": "42681"
                                },
                                {
                                    "passenger_count": "6",
                                    "total_trips": "28124"
                                },
                                {
                                    "passenger_count": "7",
                                    "total_trips": "6"
                                },
                                {
                                    "passenger_count": "8",
                                    "total_trips": "13"
                                },
                                {
                                    "passenger_count": "9",
                                    "total_trips": "1"
                                }
                            ]
                        },
                        "text/html": [
                            "<table>",
                            "<tr><th>passenger_count</th><th>total_trips</th></tr>",
                            "<tr><td>1</td><td>2261400</td></tr>",
                            "<tr><td>2</td><td>451536</td></tr>",
                            "<tr><td>3</td><td>106353</td></tr>",
                            "<tr><td>4</td><td>53745</td></tr>",
                            "<tr><td>5</td><td>42681</td></tr>",
                            "<tr><td>6</td><td>28124</td></tr>",
                            "<tr><td>7</td><td>6</td></tr>",
                            "<tr><td>8</td><td>13</td></tr>",
                            "<tr><td>9</td><td>1</td></tr>",
                            "</table>"
                        ]
                    }
                }
            ],
            "execution_count": 31
        },
        {
            "cell_type": "markdown",
            "source": [
                "- <span style=\"font-size: 16.38px;\"><b>The total distance for every specific number of passengers</b></span>"
            ],
            "metadata": {
                "azdata_cell_guid": "0cba6374-2dc6-429f-ad5f-b40138b19814"
            },
            "attachments": {}
        },
        {
            "cell_type": "code",
            "source": [
                "SELECT \r\n",
                "  TOP 8 passenger_count AS passenger_count, \r\n",
                "  SUM(trip_distance) AS total_distance \r\n",
                "FROM \r\n",
                "  yellow_tripdata \r\n",
                "WHERE \r\n",
                "  passenger_count > 0 \r\n",
                "GROUP BY \r\n",
                "  passenger_count \r\n",
                "ORDER BY \r\n",
                "  total_distance DESC\r\n",
                ""
            ],
            "metadata": {
                "azdata_cell_guid": "9c91a47f-ffa0-45c4-a594-9e9fd957c150",
                "language": "sql"
            },
            "outputs": [
                {
                    "output_type": "display_data",
                    "data": {
                        "text/html": "(8 rows affected)"
                    },
                    "metadata": {}
                },
                {
                    "output_type": "display_data",
                    "data": {
                        "text/html": "Total execution time: 00:00:00.896"
                    },
                    "metadata": {}
                },
                {
                    "output_type": "execute_result",
                    "metadata": {},
                    "execution_count": 38,
                    "data": {
                        "application/vnd.dataresource+json": {
                            "schema": {
                                "fields": [
                                    {
                                        "name": "passenger_count"
                                    },
                                    {
                                        "name": "total_distance"
                                    }
                                ]
                            },
                            "data": [
                                {
                                    "passenger_count": "1",
                                    "total_distance": "7548936.469985882"
                                },
                                {
                                    "passenger_count": "2",
                                    "total_distance": "1775011.109831335"
                                },
                                {
                                    "passenger_count": "3",
                                    "total_distance": "389719.1600046884"
                                },
                                {
                                    "passenger_count": "4",
                                    "total_distance": "204907.16002671048"
                                },
                                {
                                    "passenger_count": "5",
                                    "total_distance": "140099.45999074914"
                                },
                                {
                                    "passenger_count": "6",
                                    "total_distance": "91430.09001411684"
                                },
                                {
                                    "passenger_count": "8",
                                    "total_distance": "55.519999992102385"
                                },
                                {
                                    "passenger_count": "7",
                                    "total_distance": "25.429999388754368"
                                }
                            ]
                        },
                        "text/html": [
                            "<table>",
                            "<tr><th>passenger_count</th><th>total_distance</th></tr>",
                            "<tr><td>1</td><td>7548936.469985882</td></tr>",
                            "<tr><td>2</td><td>1775011.109831335</td></tr>",
                            "<tr><td>3</td><td>389719.1600046884</td></tr>",
                            "<tr><td>4</td><td>204907.16002671048</td></tr>",
                            "<tr><td>5</td><td>140099.45999074914</td></tr>",
                            "<tr><td>6</td><td>91430.09001411684</td></tr>",
                            "<tr><td>8</td><td>55.519999992102385</td></tr>",
                            "<tr><td>7</td><td>25.429999388754368</td></tr>",
                            "</table>"
                        ]
                    }
                }
            ],
            "execution_count": 38
        },
        {
            "cell_type": "markdown",
            "source": [
                "- <span style=\"font-size: 16.38px;\"><b>The average fare amount for trips with a specific number of passengers</b></span>"
            ],
            "metadata": {
                "azdata_cell_guid": "4bdf78f0-6cde-465f-9824-290747da535e"
            },
            "attachments": {}
        },
        {
            "cell_type": "code",
            "source": [
                "SELECT \r\n",
                "  DISTINCT(passenger_count) AS passenger_count, \r\n",
                "  AVG(fare_amount) AS avg_fare_amount \r\n",
                "FROM \r\n",
                "  yellow_tripdata \r\n",
                "WHERE \r\n",
                "  passenger_count > 0 \r\n",
                "GROUP BY \r\n",
                "  passenger_count \r\n",
                "ORDER BY \r\n",
                "  avg_fare_amount DESC"
            ],
            "metadata": {
                "azdata_cell_guid": "138fe41a-6e4d-4127-a244-741cb35ecb6e",
                "language": "sql"
            },
            "outputs": [
                {
                    "output_type": "display_data",
                    "data": {
                        "text/html": "(9 rows affected)"
                    },
                    "metadata": {}
                },
                {
                    "output_type": "display_data",
                    "data": {
                        "text/html": "Total execution time: 00:00:00.931"
                    },
                    "metadata": {}
                },
                {
                    "output_type": "execute_result",
                    "metadata": {},
                    "execution_count": 39,
                    "data": {
                        "application/vnd.dataresource+json": {
                            "schema": {
                                "fields": [
                                    {
                                        "name": "passenger_count"
                                    },
                                    {
                                        "name": "avg_fare_amount"
                                    }
                                ]
                            },
                            "data": [
                                {
                                    "passenger_count": "9",
                                    "avg_fare_amount": "90"
                                },
                                {
                                    "passenger_count": "8",
                                    "avg_fare_amount": "82.11307701697716"
                                },
                                {
                                    "passenger_count": "7",
                                    "avg_fare_amount": "68.16666666666667"
                                },
                                {
                                    "passenger_count": "4",
                                    "avg_fare_amount": "20.90031780841664"
                                },
                                {
                                    "passenger_count": "2",
                                    "avg_fare_amount": "20.187779590666164"
                                },
                                {
                                    "passenger_count": "3",
                                    "avg_fare_amount": "19.665432017331003"
                                },
                                {
                                    "passenger_count": "6",
                                    "avg_fare_amount": "18.010731414327434"
                                },
                                {
                                    "passenger_count": "5",
                                    "avg_fare_amount": "17.897048581482128"
                                },
                                {
                                    "passenger_count": "1",
                                    "avg_fare_amount": "17.86487071222939"
                                }
                            ]
                        },
                        "text/html": [
                            "<table>",
                            "<tr><th>passenger_count</th><th>avg_fare_amount</th></tr>",
                            "<tr><td>9</td><td>90</td></tr>",
                            "<tr><td>8</td><td>82.11307701697716</td></tr>",
                            "<tr><td>7</td><td>68.16666666666667</td></tr>",
                            "<tr><td>4</td><td>20.90031780841664</td></tr>",
                            "<tr><td>2</td><td>20.187779590666164</td></tr>",
                            "<tr><td>3</td><td>19.665432017331003</td></tr>",
                            "<tr><td>6</td><td>18.010731414327434</td></tr>",
                            "<tr><td>5</td><td>17.897048581482128</td></tr>",
                            "<tr><td>1</td><td>17.86487071222939</td></tr>",
                            "</table>"
                        ]
                    }
                }
            ],
            "execution_count": 39
        },
        {
            "cell_type": "markdown",
            "source": [
                "# **<mark>VII- Airport Analysis:</mark>**\n",
                "\n",
                "- <span style=\"font-size: 16.38px;\"><b style=\"\">The number of trips originated from Newark Airport</b></span>"
            ],
            "metadata": {
                "azdata_cell_guid": "6f9ad1ba-1c30-49d6-bcc4-c073261bee01"
            },
            "attachments": {}
        },
        {
            "cell_type": "code",
            "source": [
                "SELECT \r\n",
                "  COUNT(*) AS total_trips_newark_airport \r\n",
                "FROM \r\n",
                "  yellow_tripdata \r\n",
                "WHERE \r\n",
                "  RatecodeID = 3"
            ],
            "metadata": {
                "azdata_cell_guid": "70e9cfba-1c9b-458e-a8e5-e0aa80f02f9d",
                "language": "sql"
            },
            "outputs": [
                {
                    "output_type": "display_data",
                    "data": {
                        "text/html": "(1 row affected)"
                    },
                    "metadata": {}
                },
                {
                    "output_type": "display_data",
                    "data": {
                        "text/html": "Total execution time: 00:00:00.318"
                    },
                    "metadata": {}
                },
                {
                    "output_type": "execute_result",
                    "metadata": {},
                    "execution_count": 40,
                    "data": {
                        "application/vnd.dataresource+json": {
                            "schema": {
                                "fields": [
                                    {
                                        "name": "total_trips_newark_airport"
                                    }
                                ]
                            },
                            "data": [
                                {
                                    "total_trips_newark_airport": "8958"
                                }
                            ]
                        },
                        "text/html": [
                            "<table>",
                            "<tr><th>total_trips_newark_airport</th></tr>",
                            "<tr><td>8958</td></tr>",
                            "</table>"
                        ]
                    }
                }
            ],
            "execution_count": 40
        },
        {
            "cell_type": "markdown",
            "source": [
                "- <span style=\"font-size: 16.38px;\"><b>The average fare amount for trips with a pick-up at JFK Airport?</b></span>"
            ],
            "metadata": {
                "azdata_cell_guid": "d4670b34-53b5-4b81-94f7-494228930bf8"
            },
            "attachments": {}
        },
        {
            "cell_type": "code",
            "source": [
                "SELECT \r\n",
                "  AVG(fare_amount) AS avg_fare_amount_jfk \r\n",
                "FROM \r\n",
                "  yellow_tripdata \r\n",
                "WHERE \r\n",
                "  RatecodeID = 2"
            ],
            "metadata": {
                "azdata_cell_guid": "9cfe9fb6-cb60-4192-9fe0-7b0b5b1fa282",
                "language": "sql"
            },
            "outputs": [
                {
                    "output_type": "display_data",
                    "data": {
                        "text/html": "(1 row affected)"
                    },
                    "metadata": {}
                },
                {
                    "output_type": "display_data",
                    "data": {
                        "text/html": "Total execution time: 00:00:00.343"
                    },
                    "metadata": {}
                },
                {
                    "output_type": "execute_result",
                    "metadata": {},
                    "execution_count": 41,
                    "data": {
                        "application/vnd.dataresource+json": {
                            "schema": {
                                "fields": [
                                    {
                                        "name": "avg_fare_amount_jfk"
                                    }
                                ]
                            },
                            "data": [
                                {
                                    "avg_fare_amount_jfk": "67.81259858724806"
                                }
                            ]
                        },
                        "text/html": [
                            "<table>",
                            "<tr><th>avg_fare_amount_jfk</th></tr>",
                            "<tr><td>67.81259858724806</td></tr>",
                            "</table>"
                        ]
                    }
                }
            ],
            "execution_count": 41
        },
        {
            "cell_type": "markdown",
            "source": [
                "- <span style=\"font-size: 16.38px;\"><b>The top 10 trip distances for JFK Airport pick-ups</b></span>"
            ],
            "metadata": {
                "azdata_cell_guid": "1adc3e66-0457-44af-9c0d-835163c17b84"
            },
            "attachments": {}
        },
        {
            "cell_type": "code",
            "source": [
                "SELECT \r\n",
                "  TOP 10 trip_distance AS trip_distance_jfk \r\n",
                "FROM \r\n",
                "  yellow_tripdata \r\n",
                "WHERE \r\n",
                "  RatecodeID = 2 \r\n",
                "GROUP BY \r\n",
                "  trip_distance \r\n",
                "ORDER BY \r\n",
                "  trip_distance_jfk DESC"
            ],
            "metadata": {
                "azdata_cell_guid": "29a3d28e-5a8d-4195-8abb-9a7398d43e27",
                "language": "sql"
            },
            "outputs": [
                {
                    "output_type": "display_data",
                    "data": {
                        "text/html": "(10 rows affected)"
                    },
                    "metadata": {}
                },
                {
                    "output_type": "display_data",
                    "data": {
                        "text/html": "Total execution time: 00:00:00.346"
                    },
                    "metadata": {}
                },
                {
                    "output_type": "execute_result",
                    "metadata": {},
                    "execution_count": 42,
                    "data": {
                        "application/vnd.dataresource+json": {
                            "schema": {
                                "fields": [
                                    {
                                        "name": "trip_distance_jfk"
                                    }
                                ]
                            },
                            "data": [
                                {
                                    "trip_distance_jfk": "14098.5498046875"
                                },
                                {
                                    "trip_distance_jfk": "53.310001373291016"
                                },
                                {
                                    "trip_distance_jfk": "51.77000045776367"
                                },
                                {
                                    "trip_distance_jfk": "51.650001525878906"
                                },
                                {
                                    "trip_distance_jfk": "50.04999923706055"
                                },
                                {
                                    "trip_distance_jfk": "48.849998474121094"
                                },
                                {
                                    "trip_distance_jfk": "47.59000015258789"
                                },
                                {
                                    "trip_distance_jfk": "46.900001525878906"
                                },
                                {
                                    "trip_distance_jfk": "46"
                                },
                                {
                                    "trip_distance_jfk": "45.099998474121094"
                                }
                            ]
                        },
                        "text/html": [
                            "<table>",
                            "<tr><th>trip_distance_jfk</th></tr>",
                            "<tr><td>14098.5498046875</td></tr>",
                            "<tr><td>53.310001373291016</td></tr>",
                            "<tr><td>51.77000045776367</td></tr>",
                            "<tr><td>51.650001525878906</td></tr>",
                            "<tr><td>50.04999923706055</td></tr>",
                            "<tr><td>48.849998474121094</td></tr>",
                            "<tr><td>47.59000015258789</td></tr>",
                            "<tr><td>46.900001525878906</td></tr>",
                            "<tr><td>46</td></tr>",
                            "<tr><td>45.099998474121094</td></tr>",
                            "</table>"
                        ]
                    }
                }
            ],
            "execution_count": 42
        }
    ]
}